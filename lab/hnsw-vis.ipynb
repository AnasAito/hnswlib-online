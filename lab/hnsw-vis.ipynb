{
 "cells": [
  {
   "cell_type": "code",
   "execution_count": 1,
   "metadata": {},
   "outputs": [],
   "source": [
    "from hnsw_pipeline import HNSWPipeline"
   ]
  },
  {
   "cell_type": "code",
   "execution_count": 2,
   "metadata": {},
   "outputs": [],
   "source": [
    "pipeline = HNSWPipeline(\n",
    "    data_path='/data/anas.aitaomar/sift_1m_old_dist.h5',\n",
    "    # data_path='/home/anas.aitaomar/yfcc/yfcc_10m_old_dist.h5',\n",
    "    output_dir='pipeline_outputs',\n",
    "    num_nodes=50_000,\n",
    "    out_degree=4,\n",
    "    ef_construction=100,\n",
    "    seed=None\n",
    ")"
   ]
  },
  {
   "cell_type": "code",
   "execution_count": 3,
   "metadata": {},
   "outputs": [
    {
     "name": "stdout",
     "output_type": "stream",
     "text": [
      "Loading and preprocessing data...\n",
      "Saved processed data to pipeline_outputs/processed_data.npy\n",
      "Building HNSW index...\n",
      "Saved HNSW index to pipeline_outputs/hnsw_index.bin\n",
      "Creating adjacency matrix...\n",
      "Saved adjacency matrix to pipeline_outputs/adjacency.npz\n"
     ]
    }
   ],
   "source": [
    "pipeline.step1_load_data(force_reload=True)\n",
    "pipeline.step2_build_index()\n",
    "adj_matrix = pipeline.step3_create_adjacency()"
   ]
  },
  {
   "cell_type": "code",
   "execution_count": 4,
   "metadata": {},
   "outputs": [
    {
     "data": {
      "text/plain": [
       "<50000x50000 sparse matrix of type '<class 'numpy.float32'>'\n",
       "\twith 297464 stored elements in Compressed Sparse Row format>"
      ]
     },
     "execution_count": 4,
     "metadata": {},
     "output_type": "execute_result"
    }
   ],
   "source": [
    "adj_matrix"
   ]
  },
  {
   "cell_type": "code",
   "execution_count": 5,
   "metadata": {},
   "outputs": [],
   "source": [
    "import networkx as nx\n",
    "\n",
    "# For NetworkX ≥ 3.0 use from_scipy_sparse_array; on ≤ 2.8 use from_scipy_sparse_matrix\n",
    "G = nx.from_scipy_sparse_array(\n",
    "    adj_matrix,\n",
    "    create_using=nx.DiGraph,          # <- make it directed\n",
    "    # one edge (i→j); its value becomes weight\n",
    "    parallel_edges=False,\n",
    "    edge_attribute=\"weight\"           # store A[i,j] as edge weight\n",
    ")"
   ]
  },
  {
   "cell_type": "code",
   "execution_count": 9,
   "metadata": {},
   "outputs": [
    {
     "data": {
      "text/plain": [
       "AtlasView({127: {'weight': 1.0}, 2465: {'weight': 1.0}, 7842: {'weight': 1.0}, 15131: {'weight': 1.0}, 20154: {'weight': 1.0}, 29376: {'weight': 1.0}, 44001: {'weight': 1.0}})"
      ]
     },
     "execution_count": 9,
     "metadata": {},
     "output_type": "execute_result"
    }
   ],
   "source": [
    "G[1]"
   ]
  },
  {
   "cell_type": "code",
   "execution_count": 10,
   "metadata": {},
   "outputs": [
    {
     "data": {
      "text/plain": [
       "AtlasView({6032: {'weight': 1.0}, 12289: {'weight': 1.0}, 38933: {'weight': 1.0}, 49215: {'weight': 1.0}})"
      ]
     },
     "execution_count": 10,
     "metadata": {},
     "output_type": "execute_result"
    }
   ],
   "source": [
    "G[2465]"
   ]
  },
  {
   "cell_type": "code",
   "execution_count": null,
   "metadata": {},
   "outputs": [],
   "source": []
  }
 ],
 "metadata": {
  "kernelspec": {
   "display_name": "Python 3",
   "language": "python",
   "name": "python3"
  },
  "language_info": {
   "codemirror_mode": {
    "name": "ipython",
    "version": 3
   },
   "file_extension": ".py",
   "mimetype": "text/x-python",
   "name": "python",
   "nbconvert_exporter": "python",
   "pygments_lexer": "ipython3",
   "version": "3.8.10"
  }
 },
 "nbformat": 4,
 "nbformat_minor": 2
}
